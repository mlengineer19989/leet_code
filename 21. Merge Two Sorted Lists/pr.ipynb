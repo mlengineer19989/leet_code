{
 "cells": [
  {
   "cell_type": "code",
   "execution_count": 36,
   "metadata": {},
   "outputs": [],
   "source": [
    "# Definition for singly-linked list.\n",
    "class ListNode:\n",
    "    def __init__(self, val=0, next=None):\n",
    "        self.val = val\n",
    "        self.next = next\n",
    "\n",
    "class Solution:\n",
    "    def mergeTwoLists_first(self, list1: ListNode, list2: ListNode) -> ListNode:\n",
    "        mergedList = list1\n",
    "        CN1 = mergedList\n",
    "        CN2 = list2\n",
    "\n",
    "        while CN2:\n",
    "            print(CN1.val, CN2.val)\n",
    "            if CN1.val > CN2.val:\n",
    "                CN1.next = CN1\n",
    "                CN1.val = CN2.val\n",
    "                CN2 = CN2.next\n",
    "            else:\n",
    "                CN1 = CN1.next\n",
    "\n",
    "        return mergedList\n",
    "\n",
    "    def mergeTwoLists(self, list1: ListNode, list2: ListNode) -> ListNode:\n",
    "        newHead = dummyHead = ListNode()\n",
    "        while list1 and list2:\n",
    "            if list1.val < list2.val:\n",
    "                dummyHead.next = list1\n",
    "                list1 = list1.next\n",
    "            else:\n",
    "                dummyHead.next = list2\n",
    "                list2 = list2.next\n",
    "            dummyHead = dummyHead.next\n",
    "            print_result(newHead.next)\n",
    "        \n",
    "        if list1:\n",
    "            dummyHead.next = list1\n",
    "        if list2:\n",
    "            dummyHead.next = list2\n",
    "        return newHead.next\n",
    "\n",
    "\n",
    "    def mergeTwoLists_second(self, list1: ListNode, list2: ListNode) -> ListNode:\n",
    "        #mergedList = list1\n",
    "        newHead = CN1 = list1\n",
    "        CN2 = list2\n",
    "\n",
    "        while CN1 and CN2:\n",
    "            if CN1.val > CN2.val:\n",
    "                CN1 = CN2\n",
    "                #この書き方だと、newHeadのまで変更されない。\n",
    "                #このような書き方がうまくいくのは自身の次に移動する時のみ\n",
    "\n",
    "                CN2 = CN2.next\n",
    "            \n",
    "            CN1 = CN1.next\n",
    "            print_result(CN1)\n",
    "\n",
    "        return newHead\n",
    "        \n",
    "\n",
    "    \n",
    "\n",
    "                \n",
    "\n",
    "def make_ListNode(L:list):\n",
    "    listnode = None\n",
    "    for v in L[::-1]:\n",
    "        listnode = ListNode(val=v, next=listnode)\n",
    "    return listnode\n",
    "\n",
    "def print_result(L):\n",
    "    if L:\n",
    "        ans = []\n",
    "        while L:\n",
    "            ans.append(L.val)\n",
    "            L = L.next\n",
    "        print(ans)\n",
    "\n",
    "\n",
    "def reset_list():\n",
    "    list1 = [1,2,4]\n",
    "    list2 = [1,3,4]\n",
    "\n",
    "    list1 = make_ListNode(list1)\n",
    "    list2 = make_ListNode(list2)\n",
    "\n",
    "    return list1, list2"
   ]
  },
  {
   "cell_type": "code",
   "execution_count": 2,
   "metadata": {},
   "outputs": [
    {
     "name": "stdout",
     "output_type": "stream",
     "text": [
      "[2, 4]\n",
      "[3, 4]\n",
      "[4]\n",
      "[4]\n",
      "[1, 2, 4]\n"
     ]
    }
   ],
   "source": [
    "list1 = [1,2,4]\n",
    "list2 = [1,3,4]\n",
    "\n",
    "list1 = make_ListNode(list1)\n",
    "list2 = make_ListNode(list2)\n",
    "\n",
    "\n",
    "sl = Solution()\n",
    "#ans = sl.mergeTwoLists(list1, list2)\n",
    "ans = sl.mergeTwoLists_second(list1, list2)\n",
    "print_result(ans)"
   ]
  },
  {
   "attachments": {},
   "cell_type": "markdown",
   "metadata": {},
   "source": [
    "## わからないこと\n",
    "- 以下のようにdummyをdummy.nextに更新した時は、それ以降のdummyの編集内容もlist1に反映されるが、dummyをlist2に変更した場合それ以降の変更内容はlist1には反映されない。\n",
    "- dummy=という書き方が、dummy = dummy.nextでは元のlist1にも変更が影響し、dummy = list2ではlist1に影響しなくなるのはなぜか？"
   ]
  },
  {
   "cell_type": "code",
   "execution_count": 51,
   "metadata": {},
   "outputs": [
    {
     "name": "stdout",
     "output_type": "stream",
     "text": [
      "[1, 2, 1, 3, 4]\n",
      "[1, 2, 4]\n"
     ]
    }
   ],
   "source": [
    "from copy import copy\n",
    "\n",
    "#うまくいくパターン\n",
    "list1, list2 = reset_list()\n",
    "list3 = copy(list2)\n",
    "dummy = list1\n",
    "\n",
    "dummy = dummy.next\n",
    "dummy.next = list3\n",
    "print_result(list1)\n",
    "\n",
    "\n",
    "#うまくいかないパターン\n",
    "list1, list2 = reset_list()\n",
    "dummy = list1\n",
    "\n",
    "dummy = list2.next\n",
    "dummy.next = list3\n",
    "print_result(list1)"
   ]
  },
  {
   "cell_type": "code",
   "execution_count": 34,
   "metadata": {},
   "outputs": [
    {
     "data": {
      "text/plain": [
       "<__main__.ListNode at 0x1065971f0>"
      ]
     },
     "execution_count": 34,
     "metadata": {},
     "output_type": "execute_result"
    }
   ],
   "source": [
    "list1.next.next.next.next.next.next.next.next.next.next.next.next"
   ]
  }
 ],
 "metadata": {
  "kernelspec": {
   "display_name": "base",
   "language": "python",
   "name": "python3"
  },
  "language_info": {
   "codemirror_mode": {
    "name": "ipython",
    "version": 3
   },
   "file_extension": ".py",
   "mimetype": "text/x-python",
   "name": "python",
   "nbconvert_exporter": "python",
   "pygments_lexer": "ipython3",
   "version": "3.9.12 (main, Apr  5 2022, 01:52:34) \n[Clang 12.0.0 ]"
  },
  "orig_nbformat": 4,
  "vscode": {
   "interpreter": {
    "hash": "a63926c9a302ca5956f795205930968a4e9edac1b6deb598a23b2480d5833f8f"
   }
  }
 },
 "nbformat": 4,
 "nbformat_minor": 2
}
