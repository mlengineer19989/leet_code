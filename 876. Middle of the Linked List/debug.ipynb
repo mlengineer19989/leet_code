{
 "cells": [
  {
   "cell_type": "code",
   "execution_count": 6,
   "metadata": {},
   "outputs": [],
   "source": [
    "class ListNode:\n",
    "    def __init__(self, val=0, next=None):\n",
    "        self.val = val\n",
    "        self.next = next\n",
    "\n",
    "def making_ListNode(L):\n",
    "    head = None\n",
    "    for v in L:\n",
    "        head = ListNode(val=v, next=head)\n",
    "\n",
    "    return head\n",
    "\n",
    "class Solution_other:\n",
    "    def middleNode(self, head: ListNode) -> ListNode:\n",
    "        arr = [head]\n",
    "        while arr[-1].next:\n",
    "            print(arr[-1].val)\n",
    "            arr.append(arr[-1].next)\n",
    "        return arr[len(arr) // 2]"
   ]
  },
  {
   "cell_type": "code",
   "execution_count": 7,
   "metadata": {},
   "outputs": [
    {
     "name": "stdout",
     "output_type": "stream",
     "text": [
      "5\n",
      "4\n",
      "3\n",
      "2\n",
      "<__main__.ListNode object at 0x1089475b0>\n"
     ]
    }
   ],
   "source": [
    "head = making_ListNode([1,2,3,4,5])\n",
    "test = Solution_other()\n",
    "ans = test.middleNode(head)\n",
    "print(ans)"
   ]
  },
  {
   "cell_type": "code",
   "execution_count": null,
   "metadata": {},
   "outputs": [],
   "source": []
  }
 ],
 "metadata": {
  "kernelspec": {
   "display_name": "Python 3.9.12 ('base')",
   "language": "python",
   "name": "python3"
  },
  "language_info": {
   "codemirror_mode": {
    "name": "ipython",
    "version": 3
   },
   "file_extension": ".py",
   "mimetype": "text/x-python",
   "name": "python",
   "nbconvert_exporter": "python",
   "pygments_lexer": "ipython3",
   "version": "3.9.12"
  },
  "orig_nbformat": 4,
  "vscode": {
   "interpreter": {
    "hash": "a63926c9a302ca5956f795205930968a4e9edac1b6deb598a23b2480d5833f8f"
   }
  }
 },
 "nbformat": 4,
 "nbformat_minor": 2
}
