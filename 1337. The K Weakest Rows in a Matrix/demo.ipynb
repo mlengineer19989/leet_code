{
 "cells": [
  {
   "cell_type": "code",
   "execution_count": 2,
   "metadata": {},
   "outputs": [],
   "source": [
    "class ListNode:\n",
    "    def __init__(self, val=0, next=None):\n",
    "        self.val = val\n",
    "        self.next = next\n",
    "\n",
    "def convert_array2ListNode(arr):\n",
    "    LN = None\n",
    "    for v in arr[::-1]:\n",
    "        LN = ListNode(val=v, next=LN)\n",
    "\n",
    "    return LN\n",
    "\n",
    "def convert_ListNode2array(head):\n",
    "    arr = []\n",
    "    while head:\n",
    "        arr.append(head.val)\n",
    "        head = head.next\n",
    "    return arr"
   ]
  },
  {
   "cell_type": "code",
   "execution_count": 21,
   "metadata": {},
   "outputs": [
    {
     "name": "stdout",
     "output_type": "stream",
     "text": [
      "[1, 2, 3, 4, 5]\n"
     ]
    }
   ],
   "source": [
    "head = [1,2,3,4,5]\n",
    "head = convert_array2ListNode(head)\n",
    "print(convert_ListNode2array(head))"
   ]
  },
  {
   "cell_type": "code",
   "execution_count": 20,
   "metadata": {},
   "outputs": [
    {
     "name": "stdout",
     "output_type": "stream",
     "text": [
      "1\n"
     ]
    }
   ],
   "source": [
    "dummyHead = ListNode()\n",
    "dummyHead.next = head\n",
    "\n",
    "dummyHead = dummyHead.next.next\n",
    "print(dummyHead.val)\n",
    "\n",
    "dummyHead.next = head"
   ]
  },
  {
   "cell_type": "code",
   "execution_count": 19,
   "metadata": {},
   "outputs": [
    {
     "name": "stdout",
     "output_type": "stream",
     "text": [
      "1\n",
      "1\n",
      "1\n",
      "1\n"
     ]
    }
   ],
   "source": [
    "print(dummyHead.val)\n",
    "dummyHead = dummyHead.next\n",
    "\n",
    "print(dummyHead.val)\n",
    "dummyHead = dummyHead.next\n",
    "\n",
    "print(dummyHead.val)\n",
    "dummyHead = dummyHead.next\n",
    "\n",
    "print(dummyHead.val)\n",
    "dummyHead = dummyHead.next"
   ]
  },
  {
   "cell_type": "code",
   "execution_count": null,
   "metadata": {},
   "outputs": [],
   "source": []
  }
 ],
 "metadata": {
  "kernelspec": {
   "display_name": "base",
   "language": "python",
   "name": "python3"
  },
  "language_info": {
   "codemirror_mode": {
    "name": "ipython",
    "version": 3
   },
   "file_extension": ".py",
   "mimetype": "text/x-python",
   "name": "python",
   "nbconvert_exporter": "python",
   "pygments_lexer": "ipython3",
   "version": "3.9.12"
  },
  "orig_nbformat": 4,
  "vscode": {
   "interpreter": {
    "hash": "a63926c9a302ca5956f795205930968a4e9edac1b6deb598a23b2480d5833f8f"
   }
  }
 },
 "nbformat": 4,
 "nbformat_minor": 2
}
